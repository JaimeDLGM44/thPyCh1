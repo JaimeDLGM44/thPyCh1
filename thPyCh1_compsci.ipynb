{
 "cells": [
  {
   "cell_type": "markdown",
   "metadata": {},
   "source": [
    "# Think Python 2 Outline:\n",
    "Look, I can make edits!"
   ]
  },
  {
   "cell_type": "markdown",
   "metadata": {},
   "source": [
    "Oh look, here is a new cell to write notes!"
   ]
  },
  {
   "cell_type": "markdown",
   "metadata": {},
   "source": [
    "# Chapter 1 use link https://greenteapress.com/thinkpython2/html/index.html for textbook\n",
    "\n",
    "Link to notes in Google Docs: https://docs.google.com/document/d/1cDMrMeg1Pq545sBoIrN2fnLC2AAH8wDJQD_WKIFk45c/edit?usp=sharing \n",
    "\n",
    "Computer science is the scientific approach to computation and algorithms (basics of hardware and how physical components work to do certain operations, as well as programing software), or procedures, which interpret and manipulate data. \n",
    "\n",
    "##Ram vs disk drive\n",
    "RAM means Random Access Memories which is all of the information that needs to be accessed quickly by the computer (such as an unsaved game) (charged and uncharged is 1 or 0)\n",
    "Disk drive is a larger storage device that stores data using 0 and 1 (charged or uncharged) but it is slower to put in and retrieve data. \n",
    "\n",
    "##Disk drive types\n",
    "SSD vs HDD\n",
    "Solid State Drives are computer storage thats faster to access and change, but it costs more money for a good amount of storage\n",
    "Hard Disk Drive is a hard protected magnetic disk that spins around very fast and has an arm that reads the different spinning disks to retrieve and edit information.\n",
    "\n",
    "CPU- Central processing unit is the part of a computer that does all of the mathematical algorithms. These normally use a fan and a thermal dissipator since the cpu passes electricity very constantly, causing a lot of heat. The CPU makes logical comparisons and moves data up to billions of times per second. It works by executing simple instructions one at a time, triggered by a master timing signal that runs the whole computer\n",
    "\n",
    "CPU cooler is a fan with a “spiky” highly thermal-conductive material with a large surface area that dissipates heat so the air can pass through canals and cool off the cpu. This “spiky” thing is attached to the cpu’s base. \n",
    "\n",
    "Mother board is called like that because it connects and transfers information simultaneously to all of the different parts to make the computer work properly and smoothly.\n",
    "\n",
    "Floppy disks\n",
    "\n",
    "Graphics card: the processor that increases the quality (more pixels in a single area) in a screen\n",
    "\n",
    "Bit:single binary digit\n",
    "\n",
    "##Byte in size comparison in storage units\n",
    "Byte is 8 binary digits (ex: 0000 0001 maps to #1) which is approximately 1 letter per byte and can have a 256 different combinations (2 to the 8th), so a \n",
    "-a Kilobyte is 1024 bytes , or 2 to the 10th\n",
    "-a Megabyte is 1,048,576 bytes, or 2 to the 20th\n",
    "-a Gigabyte is 1,073,741,824 bytes, or 2 to the 30th\n",
    "-a Terabyte is \n",
    "\n",
    "Binary is the most basic computer language, consisting of 1 byte that translates to a letter or number.\n",
    "\n",
    "Fiber optics cable\n",
    "\n",
    "Binary arithmetic exercise, if you add 1011 plus 1100, it would be 2111, but 2 doesn’t exist, so like adding 5+5 and putting a 0 and carrying a 1 for 10, you do the same thing for binary, so the correct answer is 10111\n",
    "\n",
    "##Data types in Python\n",
    "\n",
    "-int (integer) (no decimals, only positive and negative whole numbers)\n",
    "\n",
    "-float (a real number with decimal component)\n",
    "\n",
    "-strings (ordered collections of characters, 0 or more characters)(denoted by surrounding them with ‘’ or “”    ex:     “A”      “computer”       “8” (no mathematical meaning)    ‘123abc’     ‘’ (empty string)] A LETTER WITHOUT QUOTATIONS WILL BE ASSUMED AS A VARIABLE REPRESENTING SOMETHING.\n",
    "\n",
    "-array (ordered collection of entries, all of the same type  {ex:     1234 but not 12d45   )\n",
    "\n",
    "-list (ordered collection of entries, possible different types) \n",
    "\n",
    "-object (flexible data holder that is customizable)\n",
    "\n",
    "-bin (binary) read codesin base 2 rather than base 10\n",
    "\n",
    "We can use logarithms to repeat an operation a certain number of times \n",
    "(operation)^2 would be twice\n"
   ]
  },
  {
   "cell_type": "markdown",
   "metadata": {
    "scrolled": true
   },
   "source": [
    "Problem solving: the ability to formulate problems, think creatively about solutions, and express a solution clearly and accurately.  The process of learning to program is an excellent opportunity to practice these skills.\n",
    "Here are my notes!  Hooray!"
   ]
  },
  {
   "cell_type": "markdown",
   "metadata": {},
   "source": [
    "Notes: \n",
    "-The stop button (not pause) will forcefully stop a cycle in a program\n",
    "-The fast foward button will run all programs and reset times tested"
   ]
  },
  {
   "cell_type": "markdown",
   "metadata": {},
   "source": [
    "What is a Program? An algorithm (series of instructions) written in language that gets translated by a computer to solve/give or display a solution or anything you coded.\n",
    "******\n",
    "What is it to you? ________________\n",
    "- input\n",
    "- output\n",
    "- math\n",
    "- conditional execution - if condition1 is true, do tthing 1; otherwise, do thing2\n",
    "- repetition\n",
    "    print('hello world') x 100\n",
    "    loops\n"
   ]
  },
  {
   "cell_type": "markdown",
   "metadata": {},
   "source": [
    "The Environment that you write Python:\n",
    "***\n",
    "- directly into interpreter - the REPL\n",
    "- IDLE (Built in python for learning coding without editing computer code)\n",
    "- web-based eg. PythonAnywhere\n",
    "- Local Development Environment, like Sublime Text or PyCharm\n",
    "- Local/web hybrid: Jupyter"
   ]
  },
  {
   "cell_type": "code",
   "execution_count": null,
   "metadata": {},
   "outputs": [],
   "source": [
    "#First Program!\n",
    "print(\"Hello World your name!\")"
   ]
  },
  {
   "cell_type": "code",
   "execution_count": 9,
   "metadata": {},
   "outputs": [
    {
     "name": "stdout",
     "output_type": "stream",
     "text": [
      "Mr. Hansen's coffee.\n",
      "Mr. Hansen said \"hello!\"\n",
      "Mr. Hansen's mac\\computer is \"awesome\".\n",
      "999999\n"
     ]
    }
   ],
   "source": [
    "# octothorpe \n",
    "#lines beginning with one of these are a Comment\n",
    "print(\"Mr. Hansen's coffee.\") #comment\n",
    "print('Mr. Hansen said \"hello!\"')\n",
    "print(\"Mr. Hansen's mac\\\\computer is \\\"awesome\\\".\")\n",
    "print(str(999999)) #number as string, not actual value of number"
   ]
  },
  {
   "cell_type": "code",
   "execution_count": 3,
   "metadata": {},
   "outputs": [
    {
     "name": "stdout",
     "output_type": "stream",
     "text": [
      "42\n",
      "42\n",
      "8\n",
      "6*7\n",
      "6*7\n",
      "-1.0\n",
      "2.0\n",
      "False\n",
      "True\n",
      "6*7= 42\n",
      "6+7=13\n",
      "3.14159\n",
      "3.141592653589793\n"
     ]
    },
    {
     "data": {
      "text/plain": [
       "0.0"
      ]
     },
     "execution_count": 3,
     "metadata": {},
     "output_type": "execute_result"
    }
   ],
   "source": [
    "#Arithmetic Operators:\n",
    "print(40+2) #add\n",
    "print(40-2) #subtract\n",
    "print(6*7) #multiply\n",
    "print(4/2) #divide\n",
    "print(2**3) #This is exponentiation!  ^ is XOR\n",
    "print(\"6*7\")\n",
    "print('6*7')\n",
    "print((2-7)/5) #complex arithmetic\n",
    "print(1==2) #This is a true false answer\n",
    "print(1<2) #also a true/false statement (less than or greater than)\n",
    "print(\"6*7=\",6*7)\n",
    "print(\"6+7=\" + str(6+7)) #data type casting\n",
    "\n",
    "pi = 3.14159\n",
    "print(pi) #this is the simplified form of pi\n",
    "\n",
    "import math\n",
    "print(math.pi) #this is imported information of math section of more specific number of pi\n",
    "\n",
    "import math\n",
    "abs(-10)\n",
    "\n",
    "import math\n",
    "math.isfinite(10)\n",
    "x=float('inf')\n",
    "x-x #this gives Not A Number\n",
    "\n",
    "0/x"
   ]
  },
  {
   "cell_type": "code",
   "execution_count": 39,
   "metadata": {},
   "outputs": [
    {
     "name": "stdout",
     "output_type": "stream",
     "text": [
      "13\n"
     ]
    }
   ],
   "source": [
    "#other variables to x\n",
    "x1 = 1\n",
    "x2 = 5\n",
    "x3 = 7\n",
    "my3xs = x1 + x2 + x3\n",
    "print(my3xs)\n",
    "\n",
    "myFavoriteNumber = 11 #camel case (capitals after first word (true camel case would have m capitalised))\n",
    "my_favorite_number = 12 #snake case (no capitals at all)"
   ]
  },
  {
   "cell_type": "code",
   "execution_count": 36,
   "metadata": {},
   "outputs": [
    {
     "name": "stdout",
     "output_type": "stream",
     "text": [
      "7\n"
     ]
    }
   ],
   "source": [
    "this_is_a_variable = 7 #setting variable\n",
    "\n",
    "print(this_is_a_variable)"
   ]
  },
  {
   "cell_type": "code",
   "execution_count": 12,
   "metadata": {},
   "outputs": [
    {
     "name": "stdout",
     "output_type": "stream",
     "text": [
      "5\n",
      "3.14159\n",
      "3.141592653589793\n"
     ]
    }
   ],
   "source": [
    "x = 5 # x gets the value of 5 (one equalls sign means set variable equall to...)\n",
    "var1=2 \n",
    "print(x)\n",
    "\n",
    "pi = 3.14159\n",
    "print(pi)\n",
    "\n",
    "import math\n",
    "print(math.pi)"
   ]
  },
  {
   "cell_type": "code",
   "execution_count": 4,
   "metadata": {
    "scrolled": true
   },
   "outputs": [
    {
     "name": "stdout",
     "output_type": "stream",
     "text": [
      "55\n",
      "10\n",
      "27.5\n",
      "5.0\n"
     ]
    }
   ],
   "source": [
    "mystring = \"5\"\n",
    "print(mystring+mystring)\n",
    "print(int(mystring)+int(mystring))\n",
    "print(int(mystring*2)/2) #55 divided by 2 because 5 is a string\n",
    "\n",
    "mystringaa = 5\n",
    "print(int(mystringaa*2)/2) #10 divided by 2 because 5 is a value, not string"
   ]
  },
  {
   "cell_type": "code",
   "execution_count": 14,
   "metadata": {},
   "outputs": [
    {
     "name": "stdout",
     "output_type": "stream",
     "text": [
      "7777777\n",
      "49\n"
     ]
    }
   ],
   "source": [
    "x = 7\n",
    "print(str(x)*7)\n",
    "print(x*7)"
   ]
  },
  {
   "cell_type": "code",
   "execution_count": 6,
   "metadata": {},
   "outputs": [
    {
     "name": "stdout",
     "output_type": "stream",
     "text": [
      "2\n",
      "2\n",
      "2.5\n"
     ]
    }
   ],
   "source": [
    "myfloat = 2.5\n",
    "print(int(myfloat))\n",
    "\n",
    "print(int(2.5)) #outcome is 2 because is interger, not float\n",
    "print(float(2.5)) #outcome is 2.5 yay!!"
   ]
  },
  {
   "cell_type": "code",
   "execution_count": 16,
   "metadata": {},
   "outputs": [
    {
     "name": "stdout",
     "output_type": "stream",
     "text": [
      "wordwordwordwordwordwordword\n"
     ]
    }
   ],
   "source": [
    "print(\"word\"*7)"
   ]
  },
  {
   "cell_type": "code",
   "execution_count": 17,
   "metadata": {},
   "outputs": [
    {
     "ename": "ValueError",
     "evalue": "invalid literal for int() with base 10: 'hello'",
     "output_type": "error",
     "traceback": [
      "\u001b[0;31m---------------------------------------------------------------------------\u001b[0m",
      "\u001b[0;31mValueError\u001b[0m                                Traceback (most recent call last)",
      "\u001b[0;32m/var/folders/jn/3sv3k8d13q1_4rx4q55j249r0000gp/T/ipykernel_28201/3691563845.py\u001b[0m in \u001b[0;36m<module>\u001b[0;34m\u001b[0m\n\u001b[0;32m----> 1\u001b[0;31m \u001b[0mprint\u001b[0m\u001b[0;34m(\u001b[0m\u001b[0mint\u001b[0m\u001b[0;34m(\u001b[0m\u001b[0;34m\"hello\"\u001b[0m\u001b[0;34m)\u001b[0m\u001b[0;34m)\u001b[0m \u001b[0;31m#wrong type (hello is not interger)\u001b[0m\u001b[0;34m\u001b[0m\u001b[0;34m\u001b[0m\u001b[0m\n\u001b[0m",
      "\u001b[0;31mValueError\u001b[0m: invalid literal for int() with base 10: 'hello'"
     ]
    }
   ],
   "source": [
    "print(int(\"hello\")) #wrong type (hello is not interger)"
   ]
  },
  {
   "cell_type": "code",
   "execution_count": 20,
   "metadata": {},
   "outputs": [
    {
     "name": "stdout",
     "output_type": "stream",
     "text": [
      "100\n",
      "-16\n",
      "2436\n",
      "0.7241379310344828\n",
      "4258\n",
      "\n"
     ]
    }
   ],
   "source": [
    "x = 42\n",
    "y = 58\n",
    "print(x+y)\n",
    "print(x-y)\n",
    "print(x*y)\n",
    "print(x/y)\n",
    "\n",
    "print(str(x)+str(y))"
   ]
  },
  {
   "cell_type": "code",
   "execution_count": null,
   "metadata": {},
   "outputs": [],
   "source": [
    "#incompatible types?\n",
    "1+1 # an int + an int = ok\n",
    "# \"one\"+1 #this was a string +'ed with an integer = not ok!\n",
    "'two'+\"one\" #concatenation cat for short = ok!\n",
    "\n",
    "print(\"6*7=\",6*7)\n",
    "\n",
    "##Casting\n",
    "mystring = \"5\"\n",
    "print(int(mystring*2)/2)\n",
    "x = 7\n",
    "print(\"word \"*7)\n",
    "print(str(x)*7)\n",
    "myfloat = 2.5\n",
    "print(int(myfloat))"
   ]
  },
  {
   "cell_type": "markdown",
   "metadata": {},
   "source": [
    "Natural Languages vs. Formal Languages\n",
    "- Parsing / Ambiguity /Redundancy /literalness\n",
    "- poetry/prose/programs\n",
    "\n",
    "Semantics vs. Syntax\n",
    "Semantics of a program/sentence/idea - the meaning of it.\n",
    "Syntax of a program/sentence/idea - the structure/grammar/technical rules of it.\n",
    "\n",
    "                        Syntax.       Semantics\n",
    "                    \n",
    "Stand up, then jump.     good.          good\n",
    "Up stand jump!           bad.           good (enough)\n",
    "Jump, then stand.        good.          bad. \n",
    "~\"jump jump jump zebra!   bad.          bad. \n",
    "                    \n",
    "\n",
    "Debugging\n"
   ]
  },
  {
   "cell_type": "markdown",
   "metadata": {},
   "source": [
    "***\n",
    "---Exercises----\n",
    "***"
   ]
  },
  {
   "cell_type": "markdown",
   "metadata": {},
   "source": [
    "Exercise 1\n",
    "- 1) In a print statement, what happens if you leave out one or both of the parentheses?\n",
    "- 2) If you are trying to print a string, what happens if you leave out one/both of the quotation marks (or apostrophes)?\n",
    "- 3) You can use a minus sign to make a negative number like -2. What happens if you put a plus sign before a number? What about 2++2?\n",
    "- 4) In math notation, leading zeros are ok, as in 09. What happens if you try this in Python? What about 011?\n",
    "- 5) What happens if you have two values with no operator between them?"
   ]
  },
  {
   "cell_type": "code",
   "execution_count": null,
   "metadata": {},
   "outputs": [],
   "source": [
    "print(rrrr #1)reads error because no end to comand"
   ]
  },
  {
   "cell_type": "code",
   "execution_count": null,
   "metadata": {},
   "outputs": [],
   "source": [
    "print(str(\"333))  \n",
    "          #2)doesn't work bc syntax error"
   ]
  },
  {
   "cell_type": "code",
   "execution_count": null,
   "metadata": {},
   "outputs": [],
   "source": [
    "2++2 #3)It still adds both of them up"
   ]
  },
  {
   "cell_type": "code",
   "execution_count": null,
   "metadata": {},
   "outputs": [],
   "source": [
    "011 #4)Doesn't work in intergers"
   ]
  },
  {
   "cell_type": "code",
   "execution_count": null,
   "metadata": {},
   "outputs": [],
   "source": [
    "cookies = 5\n",
    "milk = 2\n",
    "milk cookies #5)invalid syntax"
   ]
  },
  {
   "cell_type": "markdown",
   "metadata": {},
   "source": [
    "Exercise 2\n",
    "See text!\n",
    "Start the Python interpreter and use it as a calculator.\n",
    "\n",
    "1)How many seconds are there in 42 minutes 42 seconds?\n",
    "2)How many miles are there in 10 kilometers? Hint: there are 1.61 kilometers in a mile.\n",
    "3)If you run a 10 kilometer race in 42 minutes 42 seconds, what is your average pace (time per mile in minutes and seconds)? What is your average speed in miles per hour?"
   ]
  },
  {
   "cell_type": "code",
   "execution_count": null,
   "metadata": {},
   "outputs": [],
   "source": [
    "print((42*60)+42)"
   ]
  },
  {
   "cell_type": "code",
   "execution_count": null,
   "metadata": {},
   "outputs": [],
   "source": []
  },
  {
   "cell_type": "code",
   "execution_count": null,
   "metadata": {},
   "outputs": [],
   "source": []
  }
 ],
 "metadata": {
  "kernelspec": {
   "display_name": "Python 3 (ipykernel)",
   "language": "python",
   "name": "python3"
  },
  "language_info": {
   "codemirror_mode": {
    "name": "ipython",
    "version": 3
   },
   "file_extension": ".py",
   "mimetype": "text/x-python",
   "name": "python",
   "nbconvert_exporter": "python",
   "pygments_lexer": "ipython3",
   "version": "3.9.7"
  }
 },
 "nbformat": 4,
 "nbformat_minor": 4
}
